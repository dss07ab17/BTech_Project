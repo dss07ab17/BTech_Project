{
 "cells": [
  {
   "cell_type": "code",
   "execution_count": 3,
   "id": "fa8af842-a819-487c-a725-ec8a21702818",
   "metadata": {},
   "outputs": [
    {
     "name": "stdout",
     "output_type": "stream",
     "text": [
      "3.9.2\n"
     ]
    },
    {
     "ename": "TypeError",
     "evalue": "train() missing 1 required positional argument: 'class_weights'",
     "output_type": "error",
     "traceback": [
      "\u001b[1;31m---------------------------------------------------------------------------\u001b[0m",
      "\u001b[1;31mTypeError\u001b[0m                                 Traceback (most recent call last)",
      "Cell \u001b[1;32mIn[3], line 61\u001b[0m\n\u001b[0;32m     58\u001b[0m (X_train, y_train), (X_val, y_val) \u001b[38;5;241m=\u001b[39m H\u001b[38;5;241m.\u001b[39mload_data()\n\u001b[0;32m     60\u001b[0m \u001b[38;5;66;03m# train a CNN model\u001b[39;00m\n\u001b[1;32m---> 61\u001b[0m model \u001b[38;5;241m=\u001b[39m CNN\u001b[38;5;241m.\u001b[39mtrain(X_train, y_train, X_val, y_val, train_params)\n\u001b[0;32m     63\u001b[0m \u001b[38;5;66;03m# store the model and weights\u001b[39;00m\n\u001b[0;32m     64\u001b[0m H\u001b[38;5;241m.\u001b[39mstore_model(model)\n",
      "\u001b[1;31mTypeError\u001b[0m: train() missing 1 required positional argument: 'class_weights'"
     ]
    }
   ],
   "source": [
    "'''\n",
    "This is a part of the supplementary material uploaded along with \n",
    "the manuscript:\n",
    "\n",
    "    \"Lung Pattern Classification for Interstitial Lung Diseases Using a Deep Convolutional Neural Network\"\n",
    "    M. Anthimopoulos, S. Christodoulidis, L. Ebner, A. Christe and S. Mougiakakou\n",
    "    IEEE Transactions on Medical Imaging (2016)\n",
    "    http://dx.doi.org/10.1109/TMI.2016.2535865\n",
    "\n",
    "This program is free software: you can redistribute it and/or modify\n",
    "it under the terms of the GNU General Public License as published by\n",
    "the Free Software Foundation, either version 3 of the License, or\n",
    "(at your option) any later version.\n",
    "\n",
    "This program is distributed in the hope that it will be useful,\n",
    "but WITHOUT ANY WARRANTY; without even the implied warranty of\n",
    "MERCHANTABILITY or FITNESS FOR A PARTICULAR PURPOSE.  See the\n",
    "GNU General Public License for more details.\n",
    "\n",
    "You should have received a copy of the GNU General Public License\n",
    "along with this program.  If not, see <http://www.gnu.org/licenses/>.\n",
    "\n",
    "For more information please read the README file. The files can also \n",
    "be found at: https://github.com/intact-project/ild-cnn\n",
    "'''\n",
    "\n",
    "import ild_helpers as H\n",
    "import cnn_model as CNN\n",
    "\n",
    "import datetime\n",
    "t = datetime.datetime.now()\n",
    "today = str('_'+str(t.month)+'-'+str(t.day)+'-'+str(t.year)+'_'+str(t.hour)+':'+str(t.minute))\n",
    "\n",
    "\n",
    "\n",
    "# debug\n",
    "from ipdb import set_trace as bp\n",
    "\n",
    "# initialization\n",
    "args         = H.parse_args()                          # Function for parsing command-line arguments\n",
    "train_params = {\n",
    "     'do' : float(args.do) if args.do else 0.5,        # Dropout Parameter\n",
    "     'a'  : float(args.a) if args.a else 0.3,          # Conv Layers LeakyReLU alpha param [if alpha set to 0 LeakyReLU is equivalent with ReLU]\n",
    "     'k'  : int(args.k) if args.k else 4,              # Feature maps k multiplier\n",
    "     's'  : float(args.s) if args.s else 1,            # Input Image rescale factor\n",
    "     'pf' : float(args.pf) if args.pf else 1,          # Percentage of the pooling layer: [0,1]\n",
    "     'pt' : args.pt if args.pt else 'Avg',             # Pooling type: Avg, Max\n",
    "     'fp' : args.fp if args.fp else 'proportional',    # Feature maps policy: proportional, static\n",
    "     'cl' : int(args.cl) if args.cl else 5,            # Number of Convolutional Layers\n",
    "     'opt': args.opt if args.opt else 'Adam',          # Optimizer: SGD, Adagrad, Adam\n",
    "     'obj': args.obj if args.obj else 'ce',            # Minimization Objective: mse, ce\n",
    "     'patience' : args.pat if args.pat else 200,       # Patience parameter for early stoping\n",
    "     'tolerance': args.tol if args.tol else 1.005,     # Tolerance parameter for early stoping [default: 1.005, checks if > 0.5%]\n",
    "     'res_alias': args.csv if args.csv else 'res' + str(today)     # csv results filename alias\n",
    "}\n",
    "\n",
    "# loading patch data\n",
    "(X_train, y_train), (X_val, y_val) = H.load_data()\n",
    "\n",
    "# train a CNN model\n",
    "model = CNN.train(X_train, y_train, X_val, y_val, train_params,class_weights)\n",
    "\n",
    "# store the model and weights\n",
    "H.store_model(model)\n",
    "\n",
    "print ('training completed')\n",
    "print ('loading test set')\n",
    "\n",
    "# load test data set \n",
    "(X_test, y_test) = H.load_testdata()\n",
    "\n",
    "# predict with test dataset and record results\n",
    "pred = CNN.prediction(X_test, y_test, train_params)\n",
    "\n",
    "print ('assessment with test set completed')"
   ]
  },
  {
   "cell_type": "code",
   "execution_count": null,
   "id": "14b2174c-214c-4e7d-bddf-a7c9db2a1965",
   "metadata": {},
   "outputs": [],
   "source": []
  }
 ],
 "metadata": {
  "kernelspec": {
   "display_name": "Python [conda env:base] *",
   "language": "python",
   "name": "conda-base-py"
  },
  "language_info": {
   "codemirror_mode": {
    "name": "ipython",
    "version": 3
   },
   "file_extension": ".py",
   "mimetype": "text/x-python",
   "name": "python",
   "nbconvert_exporter": "python",
   "pygments_lexer": "ipython3",
   "version": "3.12.7"
  }
 },
 "nbformat": 4,
 "nbformat_minor": 5
}
